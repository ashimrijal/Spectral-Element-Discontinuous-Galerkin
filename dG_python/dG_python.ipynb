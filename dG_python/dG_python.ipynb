# Configuration step

import Lagrange
import numpy as np
import timeintegrate
import quadraturerules
import specdiff
import utils
import matplotlib.pyplot as plt

# Parameters initialization and plotting the simulation


#plt.switch_backend("TkAgg")
#plt.ion()

# Show the plots in the Notebook.
 plt.switch_backend("nbagg")

iplot  = 10  

# at the moment, keep the length of the two domain the same
# for the first domain 
ax_1 = 0.0
bx_1 = 15.0

#for the second domain
ax_2 = bx_1
bx_2 = 30.0

NNP = [2,3,4,5,6,12];
ii = 0;
#NN = [50,100,200,400,800];
NN = [300]

node = 'Lobatto';
#node = 'Legendre';

# Values of friction coefficient (will be asked)

for ii in range (0,5):
    N = NNP[5]
    NP = N+1;
    deg_of_freedom = NN[ii];
    
    num_element = round(deg_of_freedom/NP)
    
    y_1 = np.zeros(NP*num_element)
    y_2 = np.zeros(NP*num_element)
    
    x0_1 = np.linspace(ax_1,bx_1,num_element+1)
    dx_1 = np.diff(x0_1)
    
    x0_2 = np.linspace(ax_2,bx_2,num_element+1)
    dx_2 = np.diff(x0_2)

    if node == 'Legendre':
        GL_return = quadraturerules.GL(N)
        psi = GL_return['x']
        w = GL_return['w'];
    if node == 'Lobatto':
        gll_return = quadraturerules.gll(N)
        psi = gll_return['xi']
        w = gll_return['weights']
    
    for i in range (1,num_element+1):
        for j in range (1,(N+2)):
            y_1[j+(N+1)*(i-1)-1] = dx_1[i-1]/2.0 * (psi[j-1] + 1.0) +x0_1[i-1]
            y_2[j+(N+1)*(i-1)-1] = dx_2[i-1]/2.0 * (psi[j-1] + 1.0) +x0_2[i-1]
          
    deg_of_freedom = len(y_1) #same for both the domains
    
    D = specdiff.derivative_GL(N, node)
    
    L_1 = 0.5 * (bx_1-ax_1)
    L_2 = 0.5 * (bx_2-ax_2)
      
    u_1 = np.sin(2*np.pi*y_1/L_1)*0           # Sine function (multiply by Zero to see the fault behaviour only
    u_2 = np.sin(2*np.pi*y_2/L_2)*0           # i.e. without wave propagration)
    #u_1 = np.exp(-(y-0.5)**2/0.01)         # Gaussian
    
    u_1 = np.transpose(u_1)
    v_1 = np.zeros(len(u_1))
    #U_1 = np.zeros(len(u_1))
    #V_1 = np.zeros(len(u_1))
    
    u_2 = np.transpose(u_2)
    v_2 = np.zeros(len(u_2))
    #U_2 = np.zeros(len(u_2))
    #V_2 = np.zeros(len(u_2))
    
     # Initialize animated plot for u and v
        
    f, ((ax1, ax2), (ax3, ax4)) = plt.subplots(2, 2, sharex='col', sharey='row',figsize=(10,6))
    line1 = ax1.plot(y_1, u_1,'r')#,y_1,U_1,'k--')
    line2 = ax2.plot(y_2, u_2,'r')#,y_2,U_2,'k--')
    line3 = ax3.plot(y_1, v_1,'r')#,y_1,V_1,'k--')
    line4 = ax4.plot(y_2, v_2,'r')#,y_2,V_2,'k--')
    
    ax1.set_ylabel('Velocity[m/s]')
    ax3.set_ylabel('Stress[MPa]')
    ax3.set_xlabel('X [km]')
    ax4.set_xlabel('X [km]')

    f.subplots_adjust(wspace=0)

    plt.ion()
    plt.show()
    
    ax1.set_xlim([ax_1, bx_1])
    ax2.set_xlim([ax_2,bx_2])
    
    #parameters, same for both domains (parameters can be different in different domains)
    cs = 3.464;
    rho = 2.67; 
    mu = rho * cs**2;
    
    alpha = 0                              # initial friction coefficient
    S = 0.0                                # initial slip (in m)
    
    Tau_0 = 81.24+0.36                     # initial load (81.24 in Mpa), slight increase will unlock the fault
    
    Zs = rho*cs;
    
    dt = (0.25/(cs*(2.0*N+1)))*min(dx_1)
    
    r0 = 0;                                # left boundary condition ( 1, 0, -1)
    rn = 0;                                # right boundary condition ( 1, 0, -1)
    #n = 0;
    
    t = 0
    c = 0;
    
    for t in utils.drange (0.0,10+dt,dt):
        #n = n+1
        ADER_Wave_1D_GL_return = timeintegrate.ADER_Wave_1D_GL(u_1,v_1,u_2,v_2,S,D,NP,num_element,dx_1,w,psi,t,r0,rn,dt,rho,mu,Tau_0)
        u_1 = ADER_Wave_1D_GL_return['Hu_1']
        v_1 = ADER_Wave_1D_GL_return['Hv_1']
        u_2 = ADER_Wave_1D_GL_return['Hu_2']
        v_2 = ADER_Wave_1D_GL_return['Hv_2']
        S   = ADER_Wave_1D_GL_return['H_d']
    
    # Analytical (Analytical for elastic sine waves i.e. without friction law. Hence, it is not needed here)
        #U_1 = 0.5*(np.sin(2*np.pi/L_1*(y_1+cs*(t+1*dt))) + np.sin(2*np.pi/L_1*(y_1-cs*(t+1*dt))))
        #U_2 = 0.5*(np.sin(2*np.pi/L_2*(y_2+cs*(t+1*dt))) + np.sin(2*np.pi/L_2*(y_2-cs*(t+1*dt))))
        #U_1 = 0.5*(np.exp(-(y_1+cs*(t+1*dt)-0.5)**2/0.01) + np.exp(-(y_1-cs*(t+1*dt)-0.5)**2/0.01)) #analytical gaussian
        #V_1 = 0.5*Zs*(np.sin(2*np.pi/L_1*(y_1+cs*(t+1*dt))) - np.sin(2*np.pi/L_1*(y_1-cs*(t+1*dt))))
        #V_2 = 0.5*Zs*(np.sin(2*np.pi/L_2*(y_2+cs*(t+1*dt))) - np.sin(2*np.pi/L_2*(y_2-cs*(t+1*dt))))
        
        if ii % iplot == 0: 
            for l in line1:
                l.remove()
                del l               
            for l in line2:
                l.remove()
                del l 
            for l in line3:
                l.remove()
                del l               
            for l in line4:
                l.remove()
                del l
        # Display lines
            line1 = ax1.plot(y_1, u_1, 'r')#,y_1,U_1,'k--')
            line2 = ax2.plot(y_2, u_2, 'r')#,y_2,U_2,'k--')
            line3 = ax3.plot(y_1, Tau_0+v_1, 'r')#,y_1,V_1,'k--')
            line4 = ax4.plot(y_2, Tau_0+v_2, 'r')#,y_2,V_2,'k--')
        plt.legend(iter(line2), ('Numerical', 'Analytic'))
        plt.gcf().canvas.draw()
       
    plt.ioff()
    plt.show() 
